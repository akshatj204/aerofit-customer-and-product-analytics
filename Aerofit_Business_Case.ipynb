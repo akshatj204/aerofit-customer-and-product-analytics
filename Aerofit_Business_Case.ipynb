{
  "nbformat": 4,
  "nbformat_minor": 0,
  "metadata": {
    "colab": {
      "provenance": [],
      "toc_visible": true,
      "authorship_tag": "ABX9TyM6DrmePH73IPPLxeyPn96S"
    },
    "kernelspec": {
      "name": "python3",
      "display_name": "Python 3"
    },
    "language_info": {
      "name": "python"
    }
  },
  "cells": [
    {
      "cell_type": "code",
      "execution_count": null,
      "metadata": {
        "id": "7QHJoljrSa2S"
      },
      "outputs": [],
      "source": [
        "import pandas as pd\n",
        "import matplotlib.pyplot as plt\n",
        "import seaborn as sns"
      ]
    },
    {
      "cell_type": "code",
      "source": [
        "aerofit_data = pd.read_csv('aerofit_treadmill.txt')\n",
        "aerofit_data"
      ],
      "metadata": {
        "id": "j25AhsfMCAeG"
      },
      "execution_count": null,
      "outputs": []
    },
    {
      "cell_type": "code",
      "source": [
        "type(aerofit_data)"
      ],
      "metadata": {
        "id": "woR56rh9FByv"
      },
      "execution_count": null,
      "outputs": []
    },
    {
      "cell_type": "markdown",
      "source": [
        "## Basic Structure of the Data"
      ],
      "metadata": {
        "id": "u9szxqubFNrX"
      }
    },
    {
      "cell_type": "code",
      "source": [
        "aerofit_data.shape"
      ],
      "metadata": {
        "id": "nI0ESyh3FSm5"
      },
      "execution_count": null,
      "outputs": []
    },
    {
      "cell_type": "code",
      "source": [
        "aerofit_data.describe()"
      ],
      "metadata": {
        "id": "VPSDI0pBFXag"
      },
      "execution_count": null,
      "outputs": []
    },
    {
      "cell_type": "code",
      "source": [
        "aerofit_data.dtypes"
      ],
      "metadata": {
        "id": "yQfP573lFcVe"
      },
      "execution_count": null,
      "outputs": []
    },
    {
      "cell_type": "code",
      "source": [
        "aerofit_data.info()"
      ],
      "metadata": {
        "id": "U-Sus_33jTJS"
      },
      "execution_count": null,
      "outputs": []
    },
    {
      "cell_type": "code",
      "source": [
        "aerofit_data"
      ],
      "metadata": {
        "id": "xh0n9Zu2GW1K"
      },
      "execution_count": null,
      "outputs": []
    },
    {
      "cell_type": "code",
      "source": [
        "# Check for Null data\n",
        "aerofit_data.isnull().value_counts()"
      ],
      "metadata": {
        "id": "ZDpWz7N6i6TE"
      },
      "execution_count": null,
      "outputs": []
    },
    {
      "cell_type": "code",
      "source": [
        "aerofit_data['Product'].value_counts().reset_index()"
      ],
      "metadata": {
        "id": "5cuSGzV9IiX7"
      },
      "execution_count": null,
      "outputs": []
    },
    {
      "cell_type": "code",
      "source": [
        "age_df = aerofit_data['Age'].value_counts().reset_index()"
      ],
      "metadata": {
        "id": "CkAd905pIx9H"
      },
      "execution_count": null,
      "outputs": []
    },
    {
      "cell_type": "code",
      "source": [
        "age_df.sort_values(by='Age')"
      ],
      "metadata": {
        "collapsed": true,
        "id": "si7vgK-oKSyM"
      },
      "execution_count": null,
      "outputs": []
    },
    {
      "cell_type": "code",
      "source": [
        "plt.boxplot([age_df['Age'], age_df['count']], labels=['Age', 'Count'])\n",
        "plt.show()"
      ],
      "metadata": {
        "id": "I79pESDLPvhc"
      },
      "execution_count": null,
      "outputs": []
    },
    {
      "cell_type": "markdown",
      "source": [
        "## Treadmill Products"
      ],
      "metadata": {
        "id": "34rPpWLxMRnT"
      }
    },
    {
      "cell_type": "code",
      "source": [
        "prod_df = aerofit_data['Product'].value_counts().reset_index()\n",
        "prod_df"
      ],
      "metadata": {
        "id": "yh4VjthKMUMb"
      },
      "execution_count": null,
      "outputs": []
    },
    {
      "cell_type": "code",
      "source": [
        "plt.pie(data = prod_df, x = prod_df['count'], labels = ['KP281', 'KP481', 'KP781'], autopct='%1.0f%%')\n",
        "plt.show()"
      ],
      "metadata": {
        "id": "Z1V-99V7Nmfu"
      },
      "execution_count": null,
      "outputs": []
    },
    {
      "cell_type": "markdown",
      "source": [
        "## Treadmill Products and Gender"
      ],
      "metadata": {
        "id": "W0jAov7QRZIq"
      }
    },
    {
      "cell_type": "code",
      "source": [
        "prod_gen = aerofit_data[['Product', 'Gender']]\n",
        "prod_gen"
      ],
      "metadata": {
        "id": "WdULof1WQ7qJ"
      },
      "execution_count": null,
      "outputs": []
    },
    {
      "cell_type": "code",
      "source": [
        "prod_gen_grouped = prod_gen.groupby(['Product', 'Gender']).value_counts().reset_index()\n",
        "prod_gen_grouped"
      ],
      "metadata": {
        "id": "oj6JECT7gLGl"
      },
      "execution_count": null,
      "outputs": []
    },
    {
      "cell_type": "code",
      "source": [
        "sns.scatterplot(data = prod_gen_grouped, x = prod_gen_grouped['Product'], y = prod_gen_grouped['count'] ,hue = prod_gen_grouped['Gender'])\n",
        "plt.show()"
      ],
      "metadata": {
        "id": "dnck1HqnSKtf"
      },
      "execution_count": null,
      "outputs": []
    },
    {
      "cell_type": "code",
      "source": [
        "# For Product KP281 and KP781: Customers are mostly Male, for Product KP481: its mixed."
      ],
      "metadata": {
        "id": "hTMmRs9CfXmj"
      },
      "execution_count": null,
      "outputs": []
    },
    {
      "cell_type": "markdown",
      "source": [
        "## Treadmill Products, Gender and Age"
      ],
      "metadata": {
        "id": "eeSrlaCJlo13"
      }
    },
    {
      "cell_type": "code",
      "source": [
        "prod_gen_age = aerofit_data[['Product', 'Gender', 'Age']]"
      ],
      "metadata": {
        "id": "GgaEUyLXmK01"
      },
      "execution_count": null,
      "outputs": []
    },
    {
      "cell_type": "code",
      "source": [
        "gen_age_grouped = prod_gen_age.groupby(['Product', 'Gender', 'Age']).value_counts().reset_index()\n",
        "gen_age_grouped"
      ],
      "metadata": {
        "id": "Wl__v7qqlr79"
      },
      "execution_count": null,
      "outputs": []
    },
    {
      "cell_type": "code",
      "source": [
        "## Creating Age Bins"
      ],
      "metadata": {
        "id": "TXKNYBQMobiY"
      },
      "execution_count": null,
      "outputs": []
    },
    {
      "cell_type": "code",
      "source": [
        "age_bins = [17,25,35,50]\n",
        "age_labels = ['Young Adults', 'Adults', 'Middle-Aged Adults']"
      ],
      "metadata": {
        "id": "6G8VJGhsv2GT"
      },
      "execution_count": null,
      "outputs": []
    },
    {
      "cell_type": "code",
      "source": [
        "aerofit_data['age_group'] = pd.cut(aerofit_data['Age'], bins = age_bins, labels = age_labels)\n",
        "aerofit_data['age_group']"
      ],
      "metadata": {
        "id": "yvKntM0KwZX_"
      },
      "execution_count": null,
      "outputs": []
    },
    {
      "cell_type": "code",
      "source": [
        "aerofit_data['age_group'].value_counts()"
      ],
      "metadata": {
        "id": "X-_n4cM7wmJX"
      },
      "execution_count": null,
      "outputs": []
    },
    {
      "cell_type": "code",
      "source": [
        "aerofit_data"
      ],
      "metadata": {
        "id": "2Eec989-dnNJ"
      },
      "execution_count": null,
      "outputs": []
    },
    {
      "cell_type": "code",
      "source": [
        "prod_gen_age = aerofit_data[['Product', 'Gender', 'age_group']]\n",
        "prod_gen_age"
      ],
      "metadata": {
        "id": "MbFK2NmudyXx"
      },
      "execution_count": null,
      "outputs": []
    },
    {
      "cell_type": "code",
      "source": [
        "age_gen_grouped = prod_gen_age.groupby(['Product', 'Gender']).value_counts().reset_index()\n",
        "age_gen_grouped"
      ],
      "metadata": {
        "id": "dZtXCJkEd_qE"
      },
      "execution_count": null,
      "outputs": []
    },
    {
      "cell_type": "code",
      "source": [
        "age_gen_grouped.info()"
      ],
      "metadata": {
        "id": "EeFwfaY9gcSS"
      },
      "execution_count": null,
      "outputs": []
    },
    {
      "cell_type": "code",
      "source": [
        "age_gen_grouped['Combined'] = age_gen_grouped['Gender'].astype(str)+'/'+age_gen_grouped['age_group'].astype(str)\n",
        "age_gen_grouped"
      ],
      "metadata": {
        "id": "L_cSZW7VfqAq"
      },
      "execution_count": null,
      "outputs": []
    },
    {
      "cell_type": "code",
      "source": [
        "plt.figure(figsize=(10,5))\n",
        "sns.barplot(data = age_gen_grouped, x = age_gen_grouped['Product'], y = age_gen_grouped['count'], hue = age_gen_grouped['Combined'])\n",
        "plt.ylabel('Sales in Units')\n",
        "plt.title('Aerofit Treadmill Product Sales')\n",
        "plt.show()"
      ],
      "metadata": {
        "id": "pdL--lgueRdf"
      },
      "execution_count": null,
      "outputs": []
    },
    {
      "cell_type": "code",
      "source": [
        "# For KP781 - Major audience is Male/Young + Male/Adults\n",
        "# For KP481 and KP281 - Young Adults as well as Adults in Male as well as Females are significant customers"
      ],
      "metadata": {
        "id": "xzp5s5gmfE4w"
      },
      "execution_count": null,
      "outputs": []
    },
    {
      "cell_type": "markdown",
      "source": [
        "## Treadmill and Marital Status"
      ],
      "metadata": {
        "id": "6byHa4mNiXBY"
      }
    },
    {
      "cell_type": "code",
      "source": [
        "prod_marital_df = aerofit_data[['Product', 'MaritalStatus']]\n",
        "prod_marital_df"
      ],
      "metadata": {
        "id": "z8o9Jt05gKCU"
      },
      "execution_count": null,
      "outputs": []
    },
    {
      "cell_type": "code",
      "source": [
        "prod_marital_grouped = prod_marital_df.groupby('Product').value_counts().reset_index()\n",
        "prod_marital_grouped"
      ],
      "metadata": {
        "id": "VKV7U6i9iozM"
      },
      "execution_count": null,
      "outputs": []
    },
    {
      "cell_type": "code",
      "source": [
        "plt.figure(figsize = (10,5))\n",
        "sns.barplot(data = prod_marital_grouped, x =prod_marital_grouped['Product'], y = prod_marital_grouped['count'], hue = prod_marital_grouped['MaritalStatus'], palette={'Single': 'green', 'Partnered': 'red'})\n",
        "plt.ylabel('Sales in Units')\n",
        "plt.show()"
      ],
      "metadata": {
        "id": "NutTeexdix-m"
      },
      "execution_count": null,
      "outputs": []
    },
    {
      "cell_type": "code",
      "source": [
        "## same analysis in scatterplot"
      ],
      "metadata": {
        "id": "NIqL4ovqjKT4"
      },
      "execution_count": null,
      "outputs": []
    },
    {
      "cell_type": "code",
      "source": [
        "plt.figure(figsize = (10,5))\n",
        "sns.scatterplot(data = prod_marital_grouped, x =prod_marital_grouped['Product'], y = prod_marital_grouped['count'], hue = prod_marital_grouped['MaritalStatus'], palette = 'pastel')\n",
        "plt.ylabel('Sales in Units')\n",
        "plt.show()"
      ],
      "metadata": {
        "id": "HHSAMx1xkuaN"
      },
      "execution_count": null,
      "outputs": []
    },
    {
      "cell_type": "code",
      "source": [
        "# Better sales to Partners"
      ],
      "metadata": {
        "id": "pJv_ym2wlKn7"
      },
      "execution_count": null,
      "outputs": []
    },
    {
      "cell_type": "markdown",
      "source": [
        "## Treadmill and Education"
      ],
      "metadata": {
        "id": "C9J3IsMalh4p"
      }
    },
    {
      "cell_type": "code",
      "source": [
        "prod_edu = aerofit_data[['Product', 'Education']]\n",
        "prod_edu"
      ],
      "metadata": {
        "id": "TZuJq7xilmRu"
      },
      "execution_count": null,
      "outputs": []
    },
    {
      "cell_type": "code",
      "source": [
        "prod_edu_agg = prod_edu.groupby('Product')['Education'].agg(['min', 'max', 'mean']).reset_index()"
      ],
      "metadata": {
        "id": "81WPU3M0l_5E"
      },
      "execution_count": null,
      "outputs": []
    },
    {
      "cell_type": "code",
      "source": [
        "prod_edu_agg"
      ],
      "metadata": {
        "id": "yGCm-EtdmMFv"
      },
      "execution_count": null,
      "outputs": []
    },
    {
      "cell_type": "code",
      "source": [
        "prod_edu_grouped = prod_edu.groupby('Product').value_counts().reset_index()\n",
        "prod_edu_grouped"
      ],
      "metadata": {
        "id": "rnCfoD7dmNW_"
      },
      "execution_count": null,
      "outputs": []
    },
    {
      "cell_type": "code",
      "source": [
        "edu_pivot_table = prod_edu_grouped.pivot_table(index = 'Product', columns = 'Education', values = 'count')\n",
        "edu_pivot_table.reset_index(inplace = True)"
      ],
      "metadata": {
        "id": "u4plhdvYvdUh"
      },
      "execution_count": null,
      "outputs": []
    },
    {
      "cell_type": "code",
      "source": [
        "edu_pivot_table.isnull()"
      ],
      "metadata": {
        "id": "mrp8jUR-wAqm"
      },
      "execution_count": null,
      "outputs": []
    },
    {
      "cell_type": "code",
      "source": [
        "edu_pivot_table.fillna(0, inplace = True)\n",
        "edu_pivot_table"
      ],
      "metadata": {
        "id": "MgZG0YPhwBFC"
      },
      "execution_count": null,
      "outputs": []
    },
    {
      "cell_type": "code",
      "source": [
        "edu_pivot_table.columns"
      ],
      "metadata": {
        "id": "EoRguvepN0jb"
      },
      "execution_count": null,
      "outputs": []
    },
    {
      "cell_type": "code",
      "source": [
        "edu_pivot_table_subset = edu_pivot_table[[12,13,14,15,16,18,20,21]]"
      ],
      "metadata": {
        "id": "AeU8Gma0NnB7"
      },
      "execution_count": null,
      "outputs": []
    },
    {
      "cell_type": "code",
      "source": [
        "edu_pivot_table_subset"
      ],
      "metadata": {
        "id": "-4uUiWQ6OelH"
      },
      "execution_count": null,
      "outputs": []
    },
    {
      "cell_type": "code",
      "source": [
        "sns.heatmap(edu_pivot_table_subset, cmap='YlGnBu', annot=True)\n",
        "plt.yticks(ticks = [0,1,2],labels = ['KP281', 'KP481', 'KP781'])\n",
        "plt.show()"
      ],
      "metadata": {
        "id": "uCLayvyx3TWC"
      },
      "execution_count": null,
      "outputs": []
    },
    {
      "cell_type": "code",
      "source": [
        "# For KP281 and KP481, 14-16 years of education is the major cutomer base. But for KP781 (seeming to be more expensive), 16-18 years of education seems to be the right customer-base."
      ],
      "metadata": {
        "id": "DE65p8mI5gQC"
      },
      "execution_count": null,
      "outputs": []
    },
    {
      "cell_type": "markdown",
      "source": [
        "## Treadmill and Income"
      ],
      "metadata": {
        "id": "3qeqt2huPxlc"
      }
    },
    {
      "cell_type": "code",
      "source": [
        "aerofit_data.describe()"
      ],
      "metadata": {
        "id": "WrTOaQCzP0by"
      },
      "execution_count": null,
      "outputs": []
    },
    {
      "cell_type": "code",
      "source": [
        "# Finding dispersion in Income"
      ],
      "metadata": {
        "id": "080H0b8PQDw0"
      },
      "execution_count": null,
      "outputs": []
    },
    {
      "cell_type": "code",
      "source": [
        "sns.boxplot(aerofit_data['Income'])\n",
        "plt.show()"
      ],
      "metadata": {
        "id": "ywza1ldpQKzd"
      },
      "execution_count": null,
      "outputs": []
    },
    {
      "cell_type": "code",
      "source": [
        "# There are multiple instances where customer's income is beyond the IQR, i.e. 1.5 times tbe 75 percentile."
      ],
      "metadata": {
        "id": "OJpSC-vMQdC5"
      },
      "execution_count": null,
      "outputs": []
    },
    {
      "cell_type": "code",
      "source": [
        "# Creating bins out of Income"
      ],
      "metadata": {
        "id": "VsTTTYa4Qs1t"
      },
      "execution_count": null,
      "outputs": []
    },
    {
      "cell_type": "code",
      "source": [
        "income_bins = [aerofit_data['Income'].min(), 35000, 50000, 65000,aerofit_data['Income'].max()]"
      ],
      "metadata": {
        "id": "uuz-_8xAQvin"
      },
      "execution_count": null,
      "outputs": []
    },
    {
      "cell_type": "code",
      "source": [
        "income_labels = ['Low', 'Middle', 'High', 'Super-High']"
      ],
      "metadata": {
        "id": "TW0kRx47RFhk"
      },
      "execution_count": null,
      "outputs": []
    },
    {
      "cell_type": "code",
      "source": [
        "aerofit_data['income_cat'] = pd.cut(aerofit_data['Income'], bins = income_bins, labels = income_labels, include_lowest=True)\n",
        "aerofit_data['income_cat']"
      ],
      "metadata": {
        "id": "DJkwI55hRRJ-"
      },
      "execution_count": null,
      "outputs": []
    },
    {
      "cell_type": "code",
      "source": [
        "aerofit_data"
      ],
      "metadata": {
        "id": "F3wqZgETRhvp"
      },
      "execution_count": null,
      "outputs": []
    },
    {
      "cell_type": "code",
      "source": [
        "prod_income = aerofit_data[['Product', 'income_cat']]\n",
        "prod_income"
      ],
      "metadata": {
        "id": "VL1fvTojRs24"
      },
      "execution_count": null,
      "outputs": []
    },
    {
      "cell_type": "code",
      "source": [
        "prod_income_grouped = prod_income.groupby('Product').value_counts().reset_index()\n",
        "prod_income_grouped"
      ],
      "metadata": {
        "id": "jqsbV0QYSdGo"
      },
      "execution_count": null,
      "outputs": []
    },
    {
      "cell_type": "code",
      "source": [
        "sns.lineplot(data=prod_income_grouped, x = prod_income_grouped['Product'], y = prod_income_grouped['count'], hue = prod_income_grouped['income_cat'])\n",
        "plt.show()"
      ],
      "metadata": {
        "id": "2Ynw29k3SyOx"
      },
      "execution_count": null,
      "outputs": []
    },
    {
      "cell_type": "code",
      "source": [
        "# Clearly for Product KP781, customers with income in brackets of \"Super-High\" and \"High\" are the only customer base. Customers with income in Low and mIddle incomes generally perfer KP281 and KP481 products."
      ],
      "metadata": {
        "id": "OhLhntKMUC4o"
      },
      "execution_count": null,
      "outputs": []
    },
    {
      "cell_type": "markdown",
      "source": [
        "## Treadmill and Fitness Level"
      ],
      "metadata": {
        "id": "HBWnnHotX4hb"
      }
    },
    {
      "cell_type": "code",
      "source": [
        "prod_fitness = aerofit_data[['Product', 'Fitness']]\n",
        "prod_fitness"
      ],
      "metadata": {
        "id": "8r2MaAd4X7SW"
      },
      "execution_count": null,
      "outputs": []
    },
    {
      "cell_type": "code",
      "source": [
        "prod_fitness_grouped = prod_fitness.groupby('Product').value_counts().reset_index()\n",
        "prod_fitness_grouped"
      ],
      "metadata": {
        "id": "seBTiy8RYKMB"
      },
      "execution_count": null,
      "outputs": []
    },
    {
      "cell_type": "code",
      "source": [
        "sns.lineplot(data = prod_fitness_grouped, x = prod_fitness_grouped['Product'], y =prod_fitness_grouped['count'], hue = prod_fitness_grouped['Fitness'])\n",
        "plt.show()"
      ],
      "metadata": {
        "id": "L4UY-HzRYSwK"
      },
      "execution_count": null,
      "outputs": []
    },
    {
      "cell_type": "code",
      "source": [
        "# CUstomers who are extremely particular about their fitness plus have higher income plus married plus a man is most likely to purchase a KP781.\n",
        "# Customers with Fitness Level of 3 plus low/middle income are most like to purchase a KP281/KP481. They could be reasonably distributed in gender as well as marriage."
      ],
      "metadata": {
        "id": "oz3wyYOXYjNS"
      },
      "execution_count": null,
      "outputs": []
    },
    {
      "cell_type": "code",
      "source": [],
      "metadata": {
        "id": "jn19e7xJZFyJ"
      },
      "execution_count": null,
      "outputs": []
    },
    {
      "cell_type": "markdown",
      "source": [
        "## Two-way Contingency Tables"
      ],
      "metadata": {
        "id": "CvOG9w1MZNqk"
      }
    },
    {
      "cell_type": "code",
      "source": [
        "#1 Treadmill Product and Gender"
      ],
      "metadata": {
        "id": "1K0mgnzEZTeq"
      },
      "execution_count": null,
      "outputs": []
    },
    {
      "cell_type": "markdown",
      "source": [
        "### 1) Treadmill Product and Gender"
      ],
      "metadata": {
        "id": "kODW-Fb1466C"
      }
    },
    {
      "cell_type": "code",
      "source": [
        "cross_tab_1 = pd.crosstab(index = aerofit_data['Product'], columns = aerofit_data['Gender'], margins=True)\n",
        "cross_tab_1"
      ],
      "metadata": {
        "id": "QBb3uZlocy4-"
      },
      "execution_count": null,
      "outputs": []
    },
    {
      "cell_type": "code",
      "source": [
        "cross_tab_1_subset = cross_tab_1[['Female', 'Male']]\n",
        "cross_tab_1_subset"
      ],
      "metadata": {
        "id": "ON9e5oA31vLx"
      },
      "execution_count": null,
      "outputs": []
    },
    {
      "cell_type": "code",
      "source": [
        "marginal_prob_1 = cross_tab_1.div(cross_tab_1.loc['All', 'All'])\n",
        "marginal_prob_1 = round(marginal_prob_1,2)\n",
        "marginal_prob_1"
      ],
      "metadata": {
        "id": "3lH-6FeX1lUU"
      },
      "execution_count": null,
      "outputs": []
    },
    {
      "cell_type": "code",
      "source": [
        "marginal_prob_1_subset = marginal_prob_1[['Female', 'Male']]\n",
        "marginal_prob_1_subset"
      ],
      "metadata": {
        "id": "yhA6VH7K_EeL"
      },
      "execution_count": null,
      "outputs": []
    },
    {
      "cell_type": "code",
      "source": [
        "marginal_prob_1_subset.plot(kind = 'bar', stacked = 'True')\n",
        "plt.ylabel('Sales Probability')\n",
        "plt.title('Stacked Bar Chart - Product Sold by Gender')\n",
        "plt.show()"
      ],
      "metadata": {
        "id": "on1xjdJw_DBH"
      },
      "execution_count": null,
      "outputs": []
    },
    {
      "cell_type": "code",
      "source": [
        "cond_prob_1 = cross_tab_1.div(cross_tab_1['All'], axis = 0)\n",
        "cond_prob_1"
      ],
      "metadata": {
        "id": "bvPowoM_4oLJ"
      },
      "execution_count": null,
      "outputs": []
    },
    {
      "cell_type": "code",
      "source": [
        "cond_prob_1_subset = cond_prob_1[['Female', 'Male']]\n",
        "cond_prob_1_subset"
      ],
      "metadata": {
        "id": "RMXbK3TD6_k-"
      },
      "execution_count": null,
      "outputs": []
    },
    {
      "cell_type": "code",
      "source": [
        "cond_prob_1_subset.plot(kind = 'bar', stacked = 'True')\n",
        "plt.ylabel('Sales Probability')\n",
        "plt.title('Stacked Bar Chart - Product Sold by Gender')\n",
        "plt.show()"
      ],
      "metadata": {
        "id": "j3b08pRm_UoA"
      },
      "execution_count": null,
      "outputs": []
    },
    {
      "cell_type": "markdown",
      "source": [
        "### 2) Treadmill and Age"
      ],
      "metadata": {
        "id": "ZNyE83dN9VPL"
      }
    },
    {
      "cell_type": "code",
      "source": [
        "cross_tab_2 = pd.crosstab(index = aerofit_data['Product'], columns = aerofit_data['age_group'], margins=True)\n",
        "cross_tab_2"
      ],
      "metadata": {
        "id": "AvmLMw1K9X9y"
      },
      "execution_count": null,
      "outputs": []
    },
    {
      "cell_type": "code",
      "source": [
        "cross_tab_2_subset = cross_tab_2[['Young Adults', 'Adults', 'Middle-Aged Adults']]\n",
        "cross_tab_2_subset"
      ],
      "metadata": {
        "id": "deVdsw4s9maN"
      },
      "execution_count": null,
      "outputs": []
    },
    {
      "cell_type": "code",
      "source": [
        "marginal_prob_2 = cross_tab_2.div(cross_tab_1.loc['All', 'All'])\n",
        "marginal_prob_2 = round(marginal_prob_2,2)\n",
        "marginal_prob_2"
      ],
      "metadata": {
        "id": "ts1Q7gCS9506"
      },
      "execution_count": null,
      "outputs": []
    },
    {
      "cell_type": "code",
      "source": [
        "marginal_prob_2_subset = marginal_prob_2[['Young Adults', 'Adults', 'Middle-Aged Adults']]"
      ],
      "metadata": {
        "id": "CDR0QvWR-PKl"
      },
      "execution_count": null,
      "outputs": []
    },
    {
      "cell_type": "code",
      "source": [
        "marginal_prob_2_subset.plot(kind = 'bar', stacked = True)\n",
        "plt.ylabel('Sales Probability')\n",
        "plt.title('Stacked Bar Chart - Product Sold by Age Group')\n",
        "plt.show()"
      ],
      "metadata": {
        "id": "qjYX-zIu-LR6"
      },
      "execution_count": null,
      "outputs": []
    },
    {
      "cell_type": "code",
      "source": [
        "cond_prob_2 = cross_tab_2.div(cross_tab_2['All'], axis = 0)\n",
        "cond_prob_2"
      ],
      "metadata": {
        "id": "_htYjvax-Vsg"
      },
      "execution_count": null,
      "outputs": []
    },
    {
      "cell_type": "code",
      "source": [
        "cond_prob_2_subset = cond_prob_2[['Young Adults', 'Adults', 'Middle-Aged Adults']]\n",
        "cond_prob_2_subset"
      ],
      "metadata": {
        "id": "uNQTo4LJ-lx3"
      },
      "execution_count": null,
      "outputs": []
    },
    {
      "cell_type": "code",
      "source": [
        "plt.figure(figsize=(12,5))\n",
        "cond_prob_2_subset.plot(kind = 'bar', stacked = True)\n",
        "plt.ylabel('Sales Probability')\n",
        "plt.title('Stacked Bar Chart - Product Sold by Age Group')\n",
        "plt.show()"
      ],
      "metadata": {
        "id": "ejBSvEi_-wAh"
      },
      "execution_count": null,
      "outputs": []
    },
    {
      "cell_type": "markdown",
      "source": [
        "### 3) Treadmill and Age/Gender"
      ],
      "metadata": {
        "id": "ZJWDa5Cq_dl1"
      }
    },
    {
      "cell_type": "code",
      "source": [
        "age_gen_grouped"
      ],
      "metadata": {
        "id": "dZLf3Gt0_f4d"
      },
      "execution_count": null,
      "outputs": []
    },
    {
      "cell_type": "code",
      "source": [
        "cross_tab_3 = pd.crosstab(index = age_gen_grouped['Product'], columns = age_gen_grouped['Combined'], margins=True, values = age_gen_grouped['count'], aggfunc=sum)\n",
        "cross_tab_3"
      ],
      "metadata": {
        "id": "CL5wZSx5_7oS"
      },
      "execution_count": null,
      "outputs": []
    },
    {
      "cell_type": "code",
      "source": [
        "marginal_prob_3 = cross_tab_3.div(cross_tab_3.loc['All', 'All'])\n",
        "marginal_prob_3 = round(marginal_prob_3,2)\n",
        "marginal_prob_3"
      ],
      "metadata": {
        "id": "__tPBmcv_rHB"
      },
      "execution_count": null,
      "outputs": []
    },
    {
      "cell_type": "code",
      "source": [
        "marginal_prob_3.columns"
      ],
      "metadata": {
        "id": "K4I361NmCvIe"
      },
      "execution_count": null,
      "outputs": []
    },
    {
      "cell_type": "code",
      "source": [
        "marginal_prob_3_subset = marginal_prob_3[['Female/Adults', 'Female/Middle-Aged Adults','Female/Young Adults', 'Male/Adults','Male/Middle-Aged Adults', 'Male/Young Adults']]\n",
        "marginal_prob_3_subset"
      ],
      "metadata": {
        "id": "wVsQTDOyCjMu"
      },
      "execution_count": null,
      "outputs": []
    },
    {
      "cell_type": "code",
      "source": [
        "marginal_prob_3_subset.plot(kind = 'bar', stacked='True')\n",
        "plt.ylabel('Sales Probability')\n",
        "plt.title('Stacked Bar Chart - Product Sold by Gender and Age Group')\n",
        "plt.show()"
      ],
      "metadata": {
        "id": "o23F8Is2DFXu"
      },
      "execution_count": null,
      "outputs": []
    },
    {
      "cell_type": "code",
      "source": [
        "cond_prob_3 = cross_tab_3.div(cross_tab_3['All'], axis = 0)\n",
        "cond_prob_3"
      ],
      "metadata": {
        "id": "SPZiiVLkDpBx"
      },
      "execution_count": null,
      "outputs": []
    },
    {
      "cell_type": "code",
      "source": [
        "cond_prob_3_subset = cond_prob_3.drop(columns = 'All')\n",
        "cond_prob_3_subset"
      ],
      "metadata": {
        "id": "ixGLBuVaEIhh"
      },
      "execution_count": null,
      "outputs": []
    },
    {
      "cell_type": "code",
      "source": [
        "cond_prob_3_subset.plot(kind = 'bar', stacked='True')\n",
        "plt.ylabel('Sales Probability')\n",
        "plt.title('Stacked Bar Chart - Product Sold by Gender and Age Group')\n",
        "plt.show()"
      ],
      "metadata": {
        "id": "4eTuAnxNEV1Y"
      },
      "execution_count": null,
      "outputs": []
    },
    {
      "cell_type": "markdown",
      "source": [
        "### 4) Treadmill and Marital Status"
      ],
      "metadata": {
        "id": "NjuWVML_Eq2M"
      }
    },
    {
      "cell_type": "code",
      "source": [
        "cross_tab_4 = pd.crosstab(index = aerofit_data['Product'], columns = aerofit_data['MaritalStatus'], margins=True)\n",
        "cross_tab_4"
      ],
      "metadata": {
        "id": "TCZbXdN-Ew6x"
      },
      "execution_count": null,
      "outputs": []
    },
    {
      "cell_type": "code",
      "source": [
        "marginal_prob_4 = cross_tab_4.div(cross_tab_4.loc['All', 'All'])\n",
        "marginal_prob_4 = round(marginal_prob_4,2)\n",
        "marginal_prob_4"
      ],
      "metadata": {
        "id": "-6cdcIrxFD9R"
      },
      "execution_count": null,
      "outputs": []
    },
    {
      "cell_type": "code",
      "source": [
        "marginal_prob_4_subset = marginal_prob_4.drop(columns = 'All')"
      ],
      "metadata": {
        "id": "P30FLxEoFY_m"
      },
      "execution_count": null,
      "outputs": []
    },
    {
      "cell_type": "code",
      "source": [
        "marginal_prob_4_subset.plot(kind = 'bar', stacked='True')\n",
        "plt.ylabel('Sales Probability')\n",
        "plt.title('Stacked Bar Chart - Product Sold by Marital Status')\n",
        "plt.show()"
      ],
      "metadata": {
        "id": "8NQ6QMg9FPgz"
      },
      "execution_count": null,
      "outputs": []
    },
    {
      "cell_type": "code",
      "source": [
        "cond_prob_4 = cross_tab_4.div(cross_tab_4['All'], axis = 0)\n",
        "cond_prob_4"
      ],
      "metadata": {
        "id": "zOUgZmVLFW8Y"
      },
      "execution_count": null,
      "outputs": []
    },
    {
      "cell_type": "code",
      "source": [
        "cond_prob_4_subset = cond_prob_4.drop(columns = 'All')"
      ],
      "metadata": {
        "id": "yjdnjfuzFosN"
      },
      "execution_count": null,
      "outputs": []
    },
    {
      "cell_type": "code",
      "source": [
        "cond_prob_4_subset.plot(kind = 'bar', stacked='True')\n",
        "plt.ylabel('Sales Probability')\n",
        "plt.title('Stacked Bar Chart - Product Sold by Marital Status')\n",
        "plt.show()"
      ],
      "metadata": {
        "id": "pbxp9tUtFxRn"
      },
      "execution_count": null,
      "outputs": []
    },
    {
      "cell_type": "markdown",
      "source": [
        "### 5) Treadmill and Education"
      ],
      "metadata": {
        "id": "A2kk_5hGF3V3"
      }
    },
    {
      "cell_type": "code",
      "source": [
        "cross_tab_5 = pd.crosstab(index = aerofit_data['Product'], columns = aerofit_data['Education'], margins = True)\n",
        "cross_tab_5"
      ],
      "metadata": {
        "id": "Yfx0lnbBF5yj"
      },
      "execution_count": null,
      "outputs": []
    },
    {
      "cell_type": "code",
      "source": [
        "\n",
        "marginal_prob_5 = cross_tab_5.div(cross_tab_5.loc['All', 'All'])\n",
        "marginal_prob_5 = round(marginal_prob_5,2)\n",
        "marginal_prob_5"
      ],
      "metadata": {
        "id": "9IrP5Ff8I9JW"
      },
      "execution_count": null,
      "outputs": []
    },
    {
      "cell_type": "code",
      "source": [
        "marginal_prob_5_subset = marginal_prob_5.drop(columns = 'All')"
      ],
      "metadata": {
        "id": "qrI_La2eJGZ8"
      },
      "execution_count": null,
      "outputs": []
    },
    {
      "cell_type": "code",
      "source": [
        "marginal_prob_5_subset.plot(kind = 'bar', stacked='True')\n",
        "plt.ylabel('Sales Probability')\n",
        "plt.title('Stacked Bar Chart - Product Sold by Education')\n",
        "plt.show()"
      ],
      "metadata": {
        "id": "c17j5UjEJKva"
      },
      "execution_count": null,
      "outputs": []
    },
    {
      "cell_type": "code",
      "source": [
        "cond_prob_5 = cross_tab_5.div(cross_tab_5['All'], axis = 0)\n",
        "cond_prob_5"
      ],
      "metadata": {
        "id": "DrfDY0NTJQm-"
      },
      "execution_count": null,
      "outputs": []
    },
    {
      "cell_type": "code",
      "source": [
        "cond_prob_5_subset = cond_prob_5.drop(columns = 'All')"
      ],
      "metadata": {
        "id": "KY-FZuvvJauX"
      },
      "execution_count": null,
      "outputs": []
    },
    {
      "cell_type": "code",
      "source": [
        "plt.figure(figsize  = (10,10))\n",
        "cond_prob_5_subset.plot(kind = 'bar', stacked='True')\n",
        "plt.ylabel('Sales Probability')\n",
        "plt.title('Stacked Bar Chart - Product Sold by Education')\n",
        "plt.show()"
      ],
      "metadata": {
        "id": "Pc4iUdkhJhSu"
      },
      "execution_count": null,
      "outputs": []
    },
    {
      "cell_type": "markdown",
      "source": [
        "### 6) Treadmill and Income"
      ],
      "metadata": {
        "id": "crmm2iKiJv-G"
      }
    },
    {
      "cell_type": "code",
      "source": [
        "cross_tab_6 = pd.crosstab(index = aerofit_data['Product'], columns = aerofit_data['income_cat'], margins = True)\n",
        "cross_tab_6"
      ],
      "metadata": {
        "id": "OZGiqin4JyX_"
      },
      "execution_count": null,
      "outputs": []
    },
    {
      "cell_type": "code",
      "source": [
        "marginal_prob_6 = cross_tab_6.div(cross_tab_6.loc['All', 'All'])\n",
        "marginal_prob_6 = round(marginal_prob_6,2)\n",
        "marginal_prob_6"
      ],
      "metadata": {
        "id": "1FVp0VKXJ7Z0"
      },
      "execution_count": null,
      "outputs": []
    },
    {
      "cell_type": "code",
      "source": [
        "marginal_prob_6_subset = marginal_prob_6.drop(columns = 'All')"
      ],
      "metadata": {
        "id": "rL2WCI-6KBa3"
      },
      "execution_count": null,
      "outputs": []
    },
    {
      "cell_type": "code",
      "source": [
        "marginal_prob_6_subset.plot(kind = 'bar', stacked='True')\n",
        "plt.ylabel('Sales Probability')\n",
        "plt.title('Stacked Bar Chart - Product Sold by Income-Level')\n",
        "plt.show()"
      ],
      "metadata": {
        "id": "vdSB3OJ6KE-W"
      },
      "execution_count": null,
      "outputs": []
    },
    {
      "cell_type": "code",
      "source": [
        "cond_prob_6 = cross_tab_6.div(cross_tab_6['All'], axis = 0)\n",
        "cond_prob_6"
      ],
      "metadata": {
        "id": "TskWq4ulKKJQ"
      },
      "execution_count": null,
      "outputs": []
    },
    {
      "cell_type": "code",
      "source": [
        "cond_prob_6_subset =  cond_prob_6.drop(columns = 'All')"
      ],
      "metadata": {
        "id": "pb9bW7bBKVst"
      },
      "execution_count": null,
      "outputs": []
    },
    {
      "cell_type": "code",
      "source": [
        "plt.figure(figsize  = (10,10))\n",
        "cond_prob_6_subset.plot(kind = 'bar', stacked='True')\n",
        "plt.ylabel('Sales Probability')\n",
        "plt.title('Stacked Bar Chart - Product Sold by Income Level')\n",
        "plt.show()"
      ],
      "metadata": {
        "id": "OSSWUWrUKbMV"
      },
      "execution_count": null,
      "outputs": []
    },
    {
      "cell_type": "markdown",
      "source": [
        "### Treadmill and Fitness Level"
      ],
      "metadata": {
        "id": "rpZQ9IzDKoSH"
      }
    },
    {
      "cell_type": "code",
      "source": [
        "cross_tab_7 = pd.crosstab(index = aerofit_data['Product'], columns = aerofit_data['Fitness'], margins = True)\n",
        "cross_tab_7"
      ],
      "metadata": {
        "id": "7kakTC6kKqxs"
      },
      "execution_count": null,
      "outputs": []
    },
    {
      "cell_type": "code",
      "source": [
        "marginal_prob_7 = cross_tab_7.div(cross_tab_7.loc['All', 'All'])\n",
        "marginal_prob_7 = round(marginal_prob_7,2)\n",
        "marginal_prob_7"
      ],
      "metadata": {
        "id": "8qHVyWcNKy9E"
      },
      "execution_count": null,
      "outputs": []
    },
    {
      "cell_type": "code",
      "source": [
        "marginal_prob_7_subset = marginal_prob_7.drop(columns ='All')"
      ],
      "metadata": {
        "id": "ioTXt1-ALK1c"
      },
      "execution_count": null,
      "outputs": []
    },
    {
      "cell_type": "code",
      "source": [
        "marginal_prob_7_subset.plot(kind = 'bar', stacked='True')\n",
        "plt.ylabel('Sales Probability')\n",
        "plt.title('Stacked Bar Chart - Product Sold by Fitness-Level')\n",
        "plt.show()"
      ],
      "metadata": {
        "id": "AbiLBi24LEtK"
      },
      "execution_count": null,
      "outputs": []
    },
    {
      "cell_type": "code",
      "source": [
        "cond_prob_7 = cross_tab_7.div(cross_tab_7['All'], axis = 0)\n",
        "cond_prob_7"
      ],
      "metadata": {
        "id": "JQ0360yxLP4a"
      },
      "execution_count": null,
      "outputs": []
    },
    {
      "cell_type": "code",
      "source": [
        "cond_prob_7_subset = cond_prob_7.drop(columns = 'All')"
      ],
      "metadata": {
        "id": "OganJpl3LhXJ"
      },
      "execution_count": null,
      "outputs": []
    },
    {
      "cell_type": "code",
      "source": [
        "plt.figure(figsize  = (10,10))\n",
        "cond_prob_7_subset.plot(kind = 'bar', stacked='True')\n",
        "plt.ylabel('Sales Probability')\n",
        "plt.title('Stacked Bar Chart - Product Sold by Fitness-Level')\n",
        "plt.show()"
      ],
      "metadata": {
        "id": "nmbAr7aoLm4n"
      },
      "execution_count": null,
      "outputs": []
    }
  ]
}